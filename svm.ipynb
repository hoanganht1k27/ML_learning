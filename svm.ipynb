{
 "cells": [
  {
   "cell_type": "code",
   "execution_count": null,
   "metadata": {},
   "outputs": [],
   "source": [
    "from __future__ import print_function\n",
    "import numpy as np\n",
    "\n",
    "np.random.seed(22)\n",
    "\n",
    "# simulated samples\n",
    "means = [[2, 2], [4, 2]]\n",
    "cov = [[.3, .2], [.2, .3]]\n",
    "\n",
    "N = 10\n",
    "X0 = np.random.multivariate_normal(means[0], cov, N) # blue class data\n",
    "X1 = np.random.multivariate_normal(means[1], cov, N) # red class\n",
    "X = np.concatenate((X0, X1), axis = 0) # all data\n",
    "y = np.concatenate((np.ones(N), -np.ones(N)), axis = 0) # label\n",
    "# solving the dual problem (variable: lambda)\n",
    "from cvxopt import matrix, solvers\n",
    "V = np.concatenate((X0, -X1), axis = 0) # V = y .* X\n",
    "Q = matrix(V.dot(V.T))\n",
    "p = matrix(-np.ones((2*N, 1))) # objective function 1/2 lambda^T*Q*lambda - 1^T*lambda\n",
    "\n",
    "# build A, b, G, h\n",
    "G = matrix(-np.eye(2*N))\n",
    "h = matrix(np.zeros((2*N, 1)))\n",
    "A = matrix(y.reshape(1, -1))\n",
    "b = matrix(np.zeros((1, 1)))"
   ]
  }
 ],
 "metadata": {
  "language_info": {
   "name": "python"
  },
  "orig_nbformat": 4
 },
 "nbformat": 4,
 "nbformat_minor": 2
}
