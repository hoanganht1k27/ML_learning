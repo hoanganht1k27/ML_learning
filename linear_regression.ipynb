{
 "cells": [
  {
   "cell_type": "code",
   "execution_count": 2,
   "metadata": {},
   "outputs": [],
   "source": [
    "import numpy as np\n",
    "import matplotlib.pyplot as plt"
   ]
  },
  {
   "cell_type": "code",
   "execution_count": 3,
   "metadata": {},
   "outputs": [
    {
     "name": "stdout",
     "output_type": "stream",
     "text": [
      "52.8490819525505 55.66815942679195\n"
     ]
    }
   ],
   "source": [
    "X = np.array([[1, 147], [1, 150], [1, 153], [1, 155], [1, 158], [1, 160], [1, 163], [1, 165], [1, 168], [1, 170], [1, 173], [1, 175], [1, 178], [1, 180], [1, 183]])\n",
    "\n",
    "Y = np.array([ 49, 50, 51, 52, 54, 56, 58, 59, 60, 62, 63, 64, 66, 67, 68])\n",
    "\n",
    "X = X.T\n",
    "A = np.dot(X, X.T)\n",
    "b = np.dot(X, Y)\n",
    "w = np.dot(np.linalg.pinv(A), b)\n",
    "\n",
    "w0 = w[0]\n",
    "w1 = w[1]\n",
    "\n",
    "y1 = w1 * 155 + w0\n",
    "y2 = w1 * 160 + w0\n",
    "\n",
    "print(y1, y2)"
   ]
  },
  {
   "cell_type": "code",
   "execution_count": 5,
   "metadata": {},
   "outputs": [
    {
     "name": "stdout",
     "output_type": "stream",
     "text": [
      "(4, 2)\n",
      "(2,)\n"
     ]
    }
   ],
   "source": [
    "X = np.array([[1, 1], [1, 2], [2, 2], [2, 3]])\n",
    "y = np.dot(X, np.array([1, 2])) + 3\n",
    "print(X.shape)\n",
    "print(np.array([1, 2]).shape)"
   ]
  }
 ],
 "metadata": {
  "interpreter": {
   "hash": "916dbcbb3f70747c44a77c7bcd40155683ae19c65e1c03b4aa3499c5328201f1"
  },
  "kernelspec": {
   "display_name": "Python 3 (ipykernel)",
   "language": "python",
   "name": "python3"
  },
  "language_info": {
   "codemirror_mode": {
    "name": "ipython",
    "version": 3
   },
   "file_extension": ".py",
   "mimetype": "text/x-python",
   "name": "python",
   "nbconvert_exporter": "python",
   "pygments_lexer": "ipython3",
   "version": "3.8.10"
  }
 },
 "nbformat": 4,
 "nbformat_minor": 2
}
