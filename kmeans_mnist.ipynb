{
 "cells": [
  {
   "cell_type": "code",
   "execution_count": 15,
   "metadata": {},
   "outputs": [],
   "source": [
    "from __future__ import print_function\n",
    "import numpy as np\n",
    "from sklearn.datasets import fetch_openml, load_digits\n",
    "from sklearn.cluster import KMeans"
   ]
  },
  {
   "cell_type": "code",
   "execution_count": 9,
   "metadata": {},
   "outputs": [
    {
     "name": "stdout",
     "output_type": "stream",
     "text": [
      "(1797, 64)\n"
     ]
    }
   ],
   "source": [
    "mnist = load_digits()\n",
    "print(mnist.data.shape)"
   ]
  },
  {
   "cell_type": "code",
   "execution_count": 12,
   "metadata": {},
   "outputs": [
    {
     "data": {
      "text/plain": [
       "<Figure size 432x288 with 0 Axes>"
      ]
     },
     "metadata": {},
     "output_type": "display_data"
    },
    {
     "data": {
      "image/png": "[encoded data removed]",
      "text/plain": [
       "<Figure size 288x288 with 1 Axes>"
      ]
     },
     "metadata": {
      "needs_background": "light"
     },
     "output_type": "display_data"
    }
   ],
   "source": [
    "import matplotlib.pyplot as plt\n",
    "\n",
    "plt.gray()\n",
    "plt.matshow(mnist.images[100])\n",
    "plt.show()"
   ]
  },
  {
   "cell_type": "code",
   "execution_count": 39,
   "metadata": {},
   "outputs": [
    {
     "name": "stdout",
     "output_type": "stream",
     "text": [
      "[[ 0.00000000e+00  1.12107623e-01  4.00000000e+00  1.18923767e+01\n",
      "   1.23049327e+01  5.33632287e+00  4.30493274e-01  2.77555756e-17\n",
      "   8.96860987e-03  8.60986547e-01  8.22421525e+00  1.35470852e+01\n",
      "   1.25739910e+01  9.84753363e+00  1.53811659e+00 -2.77555756e-17\n",
      "   1.30104261e-18  1.20179372e+00  8.34529148e+00  1.19327354e+01\n",
      "   1.23542601e+01  9.44394619e+00  1.02690583e+00  0.00000000e+00\n",
      "   0.00000000e+00  9.28251121e-01  7.22869955e+00  1.40941704e+01\n",
      "   1.41748879e+01  4.94170404e+00  2.01793722e-01  0.00000000e+00\n",
      "   0.00000000e+00  7.71300448e-01  8.01345291e+00  1.48161435e+01\n",
      "   1.29058296e+01  2.17488789e+00  1.79372197e-02  0.00000000e+00\n",
      "   0.00000000e+00  1.22869955e+00  1.04932735e+01  1.20717489e+01\n",
      "   1.21300448e+01  4.02242152e+00  2.01793722e-01  6.93889390e-18\n",
      "   1.34529148e-02  8.43049327e-01  9.54708520e+00  1.15964126e+01\n",
      "   1.20717489e+01  5.58295964e+00  6.18834081e-01  4.48430493e-03\n",
      "   4.48430493e-03  1.12107623e-01  4.19730942e+00  1.20134529e+01\n",
      "   1.25829596e+01  4.86547085e+00  8.11659193e-01  8.96860987e-03]\n",
      " [ 0.00000000e+00  1.11022302e-16  3.07228916e-01  7.16265060e+00\n",
      "   1.19457831e+01  1.93373494e+00  1.50602410e-01  5.42168675e-02\n",
      "   1.73472348e-18  1.20481928e-02  3.28313253e+00  1.37951807e+01\n",
      "   8.46385542e+00  1.53012048e+00  9.75903614e-01  2.77108434e-01\n",
      "   8.67361738e-19  6.44578313e-01  1.07108434e+01  1.15602410e+01\n",
      "   4.33734940e+00  5.25903614e+00  3.87349398e+00  3.25301205e-01\n",
      "   6.02409639e-03  4.75903614e+00  1.47590361e+01  5.86144578e+00\n",
      "   6.87951807e+00  1.07530120e+01  6.21686747e+00  1.80722892e-02\n",
      "   0.00000000e+00  8.92771084e+00  1.48072289e+01  9.35542169e+00\n",
      "   1.28132530e+01  1.43915663e+01  5.48192771e+00  0.00000000e+00\n",
      "   9.63855422e-02  6.50602410e+00  1.16867470e+01  1.23433735e+01\n",
      "   1.48373494e+01  1.07590361e+01  1.56626506e+00  3.46944695e-18\n",
      "   6.02409639e-02  1.11445783e+00  3.00000000e+00  7.77710843e+00\n",
      "   1.40843373e+01  4.13253012e+00  1.80722892e-02 -1.38777878e-16\n",
      "  -1.08420217e-19  2.40963855e-02  3.73493976e-01  7.96385542e+00\n",
      "   1.23253012e+01  1.77108434e+00 -8.88178420e-16 -5.55111512e-17]\n",
      " [ 0.00000000e+00  1.66533454e-16  1.15934066e+00  1.12252747e+01\n",
      "   9.53296703e+00  1.41758242e+00  5.49450549e-03 -5.55111512e-17\n",
      "   8.67361738e-19  6.04395604e-02  7.18131868e+00  1.45604396e+01\n",
      "   6.19230769e+00  8.29670330e-01  2.74725275e-02 -1.38777878e-17\n",
      "   4.33680869e-19  7.69230769e-01  1.24560440e+01  9.47252747e+00\n",
      "   9.34065934e-01  1.09890110e-01  0.00000000e+00 -2.08166817e-17\n",
      "  -4.33680869e-19  2.29670330e+00  1.36208791e+01  8.09340659e+00\n",
      "   3.87362637e+00  1.92857143e+00  1.04395604e-01 -8.67361738e-19\n",
      "   0.00000000e+00  3.52747253e+00  1.46758242e+01  1.29175824e+01\n",
      "   1.22527473e+01  1.02857143e+01  2.71978022e+00  0.00000000e+00\n",
      "  -3.46944695e-18  1.86813187e+00  1.45164835e+01  1.06538462e+01\n",
      "   5.57692308e+00  1.01923077e+01  9.13186813e+00  2.30769231e-01\n",
      "   8.67361738e-19  1.75824176e-01  1.02857143e+01  1.26263736e+01\n",
      "   5.41758242e+00  1.13241758e+01  1.08956044e+01  6.26373626e-01\n",
      "  -2.16840434e-19 -1.11022302e-16  1.44505495e+00  1.07362637e+01\n",
      "   1.50989011e+01  1.31318681e+01  4.62087912e+00  1.70329670e-01]\n",
      " [ 0.00000000e+00  1.04430380e+00  9.58227848e+00  1.31772152e+01\n",
      "   1.40569620e+01  1.25189873e+01  4.60126582e+00  2.46835443e-01\n",
      "   6.32911392e-03  4.36075949e+00  1.47468354e+01  1.26645570e+01\n",
      "   8.76582278e+00  7.32278481e+00  2.94303797e+00  1.83544304e-01\n",
      "   1.26582278e-02  5.90506329e+00  1.44177215e+01  5.86708861e+00\n",
      "   1.98101266e+00  1.46202532e+00  6.32911392e-01  3.16455696e-02\n",
      "   6.32911392e-03  5.13924051e+00  1.43734177e+01  1.19556962e+01\n",
      "   7.78481013e+00  2.71518987e+00  2.78481013e-01 -4.33680869e-19\n",
      "   0.00000000e+00  1.84810127e+00  7.91772152e+00  9.82278481e+00\n",
      "   1.02405063e+01  5.65822785e+00  6.07594937e-01  0.00000000e+00\n",
      "  -1.73472348e-18  2.91139241e-01  1.34177215e+00  4.91139241e+00\n",
      "   9.98734177e+00  6.91139241e+00  7.34177215e-01  3.46944695e-18\n",
      "   0.00000000e+00  8.10126582e-01  4.92405063e+00  9.51265823e+00\n",
      "   1.21075949e+01  5.12025316e+00  4.17721519e-01 -1.11022302e-16\n",
      "  -1.08420217e-19  9.93670886e-01  1.03354430e+01  1.44430380e+01\n",
      "   7.88607595e+00  1.06962025e+00  1.89873418e-02  5.55111512e-17]\n",
      " [ 0.00000000e+00  1.94331984e-01  6.45344130e+00  1.25020243e+01\n",
      "   1.18502024e+01  5.63562753e+00  6.23481781e-01  8.09716599e-03\n",
      "   4.04858300e-03  2.60728745e+00  1.39676113e+01  9.20647773e+00\n",
      "   9.42510121e+00  1.03967611e+01  1.27530364e+00  4.04858300e-03\n",
      "   8.67361738e-19  4.29554656e+00  1.28178138e+01  4.41700405e+00\n",
      "   6.85829960e+00  1.11740891e+01  1.91093117e+00 -6.93889390e-18\n",
      "   0.00000000e+00  2.31174089e+00  1.04048583e+01  1.18542510e+01\n",
      "   1.32064777e+01  1.20566802e+01  2.48178138e+00  0.00000000e+00\n",
      "   0.00000000e+00  3.03643725e-01  3.19838057e+00  6.21052632e+00\n",
      "   6.81781377e+00  1.12348178e+01  4.28340081e+00  0.00000000e+00\n",
      "   0.00000000e+00  2.18623482e-01  2.34412955e+00  1.99190283e+00\n",
      "   1.68825911e+00  1.09676113e+01  6.44534413e+00  1.61943320e-02\n",
      "   4.33680869e-18  7.44939271e-01  8.07692308e+00  5.62753036e+00\n",
      "   4.68825911e+00  1.22469636e+01  6.03643725e+00  1.13360324e-01\n",
      "   0.00000000e+00  1.70040486e-01  6.38056680e+00  1.34777328e+01\n",
      "   1.45222672e+01  9.99595142e+00  2.32793522e+00  1.13360324e-01]\n",
      " [ 0.00000000e+00  2.23463687e-02  4.22905028e+00  1.31396648e+01\n",
      "   1.12681564e+01  2.93854749e+00  3.35195531e-02 -8.32667268e-17\n",
      "   1.73472348e-18  8.82681564e-01  1.26201117e+01  1.33687151e+01\n",
      "   1.14078212e+01  1.13687151e+01  9.60893855e-01 -1.38777878e-17\n",
      "   8.67361738e-19  3.72625698e+00  1.42122905e+01  5.25139665e+00\n",
      "   2.10614525e+00  1.21173184e+01  3.53072626e+00 -1.38777878e-17\n",
      "  -4.33680869e-19  5.29608939e+00  1.26424581e+01  2.03351955e+00\n",
      "   2.29050279e-01  9.07821229e+00  6.47486034e+00 -8.67361738e-19\n",
      "   0.00000000e+00  5.88268156e+00  1.14916201e+01  8.65921788e-01\n",
      "   3.35195531e-02  8.81005587e+00  7.15083799e+00  0.00000000e+00\n",
      "  -3.46944695e-18  3.51396648e+00  1.32849162e+01  1.65921788e+00\n",
      "   1.49162011e+00  1.13519553e+01  5.84357542e+00  3.46944695e-18\n",
      "   8.67361738e-19  8.04469274e-01  1.31117318e+01  9.96089385e+00\n",
      "   1.03519553e+01  1.32960894e+01  2.47486034e+00  2.23463687e-02\n",
      "  -2.16840434e-19  5.58659218e-03  4.19553073e+00  1.35865922e+01\n",
      "   1.33407821e+01  5.48044693e+00  3.18435754e-01  1.67597765e-02]\n",
      " [ 0.00000000e+00  9.42857143e-01  1.01885714e+01  1.44400000e+01\n",
      "   7.77142857e+00  9.82857143e-01 -6.66133815e-16  0.00000000e+00\n",
      "   2.28571429e-02  5.24000000e+00  1.37200000e+01  1.26228571e+01\n",
      "   1.16914286e+01  3.23428571e+00  1.71428571e-02 -1.38777878e-17\n",
      "   1.14285714e-02  4.56000000e+00  8.11428571e+00  6.13714286e+00\n",
      "   1.21600000e+01  3.56000000e+00  1.71428571e-02 -1.38777878e-17\n",
      "  -2.16840434e-19  9.65714286e-01  2.81714286e+00  7.00571429e+00\n",
      "   1.25371429e+01  2.56000000e+00  4.00000000e-02 -4.33680869e-19\n",
      "   0.00000000e+00  4.57142857e-02  1.57142857e+00  9.89714286e+00\n",
      "   1.06971429e+01  1.45142857e+00  0.00000000e+00  0.00000000e+00\n",
      "  -1.73472348e-18  2.51428571e-01  4.45714286e+00  1.12457143e+01\n",
      "   7.74285714e+00  2.37142857e+00  8.45714286e-01  1.14285714e-02\n",
      "   1.73472348e-18  1.19428571e+00  1.09942857e+01  1.37314286e+01\n",
      "   1.19257143e+01  1.11600000e+01  7.66857143e+00  1.10285714e+00\n",
      "  -1.08420217e-19  9.31428571e-01  1.03885714e+01  1.44685714e+01\n",
      "   1.35028571e+01  1.23542857e+01  8.96571429e+00  2.95428571e+00]\n",
      " [ 0.00000000e+00  1.68367347e-01  5.04591837e+00  1.30918367e+01\n",
      "   1.41785714e+01  1.08826531e+01  4.77040816e+00  8.11224490e-01\n",
      "   2.60208521e-18  1.12755102e+00  1.07091837e+01  1.13979592e+01\n",
      "   1.04489796e+01  1.26173469e+01  5.21938776e+00  4.38775510e-01\n",
      "   1.30104261e-18  1.11734694e+00  5.20918367e+00  2.19387755e+00\n",
      "   7.07653061e+00  1.16938776e+01  3.12755102e+00  9.18367347e-02\n",
      "  -2.16840434e-19  9.23469388e-01  4.64795918e+00  6.58673469e+00\n",
      "   1.24540816e+01  1.21428571e+01  4.84183673e+00  5.10204082e-03\n",
      "   0.00000000e+00  1.46938776e+00  8.82142857e+00  1.33622449e+01\n",
      "   1.48877551e+01  1.07295918e+01  4.07653061e+00  0.00000000e+00\n",
      "  -1.73472348e-18  1.13775510e+00  5.30612245e+00  1.17500000e+01\n",
      "   1.10051020e+01  3.57653061e+00  5.61224490e-01  3.46944695e-18\n",
      "   3.46944695e-18  1.07142857e-01  3.08673469e+00  1.24030612e+01\n",
      "   6.10714286e+00  3.26530612e-01  1.02040816e-02 -1.11022302e-16\n",
      "  -1.08420217e-19  1.32653061e-01  6.37755102e+00  1.19693878e+01\n",
      "   2.38265306e+00  2.70408163e-01  3.57142857e-02  1.11022302e-16]\n",
      " [ 0.00000000e+00  5.55111512e-17  3.22580645e-02  1.84946237e+00\n",
      "   1.10645161e+01  1.25268817e+01  4.21505376e+00  2.58064516e-01\n",
      "   8.67361738e-19  5.37634409e-02  1.95698925e+00  8.93548387e+00\n",
      "   1.37741935e+01  1.24301075e+01  5.27956989e+00  3.22580645e-01\n",
      "   4.33680869e-19  1.56989247e+00  8.66666667e+00  1.24408602e+01\n",
      "   1.19032258e+01  1.28387097e+01  3.98924731e+00  1.39784946e-01\n",
      "   0.00000000e+00  3.55913978e+00  1.19784946e+01  1.17634409e+01\n",
      "   1.29354839e+01  1.35376344e+01  2.61290323e+00  0.00000000e+00\n",
      "   0.00000000e+00  1.94623656e+00  6.87096774e+00  7.44086022e+00\n",
      "   1.18172043e+01  1.26021505e+01  1.89247312e+00  0.00000000e+00\n",
      "   0.00000000e+00  7.84946237e-01  2.01075269e+00  3.77419355e+00\n",
      "   1.16774194e+01  1.19354839e+01  1.20430108e+00 -3.46944695e-18\n",
      "   0.00000000e+00  6.45161290e-02  3.11827957e-01  3.02150538e+00\n",
      "   1.24623656e+01  1.16021505e+01  1.65591398e+00 -8.32667268e-17\n",
      "   0.00000000e+00 -5.55111512e-17 -8.88178420e-16  1.96774194e+00\n",
      "   1.13978495e+01  1.05698925e+01  1.68817204e+00 -1.11022302e-16]\n",
      " [ 0.00000000e+00  5.95505618e-01  8.75842697e+00  1.45955056e+01\n",
      "   1.40224719e+01  7.05056180e+00  6.29213483e-01 -5.55111512e-17\n",
      "   1.12359551e-02  4.17977528e+00  1.26404494e+01  9.12359551e+00\n",
      "   1.12696629e+01  1.20000000e+01  1.90449438e+00  1.12359551e-02\n",
      "   5.61797753e-03  1.88764045e+00  3.67977528e+00  3.61235955e+00\n",
      "   1.18202247e+01  9.88764045e+00  8.48314607e-01 -1.38777878e-17\n",
      "  -4.33680869e-19  6.17977528e-02  9.77528090e-01  8.26404494e+00\n",
      "   1.38202247e+01  6.81460674e+00  3.03370787e-01 -8.67361738e-19\n",
      "   0.00000000e+00  6.17977528e-02  6.79775281e-01  4.55056180e+00\n",
      "   1.16853933e+01  1.23146067e+01  2.30337079e+00  0.00000000e+00\n",
      "  -3.46944695e-18  4.66292135e-01  1.50561798e+00  6.85393258e-01\n",
      "   4.17977528e+00  1.23820225e+01  6.29213483e+00  5.61797753e-03\n",
      "   2.60208521e-18  9.49438202e-01  7.37640449e+00  6.60674157e+00\n",
      "   8.64044944e+00  1.36910112e+01  6.02247191e+00  1.74157303e-01\n",
      "  -2.16840434e-19  4.71910112e-01  9.53932584e+00  1.49719101e+01\n",
      "   1.41011236e+01  8.81460674e+00  1.83146067e+00  4.15730337e-01]]\n"
     ]
    }
   ],
   "source": [
    "K = 10\n",
    "X = mnist.data\n",
    "kmeans = KMeans(n_clusters=K).fit(X)\n",
    "pred_label = kmeans.predict(X)\n",
    "id = []\n",
    "# for i in range(X.shape[0]):\n",
    "#     if pred_label[i] == 8:\n",
    "#         id.append(i)\n",
    "\n",
    "# id = np.array(id)\n",
    "# for k in id[np.random.choice(len(id), 10)]:\n",
    "#     print(pred_label[k])\n",
    "#     plt.gray()\n",
    "#     plt.matshow(mnist.images[k])\n",
    "#     plt.show()\n",
    "\n",
    "print(kmeans.cluster_centers_)"
   ]
  },
  {
   "cell_type": "code",
   "execution_count": 27,
   "metadata": {},
   "outputs": [
    {
     "name": "stdout",
     "output_type": "stream",
     "text": [
      "9\n",
      "[8 1]\n"
     ]
    }
   ],
   "source": [
    "a = np.array([1, 2, 3, 4, 5, 6, 7, 8, 9])\n",
    "print(len(a))\n",
    "print(a[np.random.choice(len(a), 2, replace=False)])"
   ]
  }
 ],
 "metadata": {
  "interpreter": {
   "hash": "916dbcbb3f70747c44a77c7bcd40155683ae19c65e1c03b4aa3499c5328201f1"
  },
  "kernelspec": {
   "display_name": "Python 3.8.10 64-bit",
   "language": "python",
   "name": "python3"
  },
  "language_info": {
   "codemirror_mode": {
    "name": "ipython",
    "version": 3
   },
   "file_extension": ".py",
   "mimetype": "text/x-python",
   "name": "python",
   "nbconvert_exporter": "python",
   "pygments_lexer": "ipython3",
   "version": "3.8.10"
  },
  "orig_nbformat": 4
 },
 "nbformat": 4,
 "nbformat_minor": 2
}
