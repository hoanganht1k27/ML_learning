{
 "cells": [
  {
   "cell_type": "code",
   "execution_count": 1,
   "metadata": {},
   "outputs": [],
   "source": [
    "import numpy as np\n",
    "from sklearn.neighbors import KNeighborsRegressor"
   ]
  },
  {
   "cell_type": "code",
   "execution_count": 28,
   "metadata": {},
   "outputs": [
    {
     "name": "stdout",
     "output_type": "stream",
     "text": [
      "[[ 1  2  3]\n",
      " [ 1  5  7]\n",
      " [ 4  6  8]\n",
      " [10 11 12]\n",
      " [ 3  7 10]]\n",
      "[ 48 105 130 219 152]\n"
     ]
    },
    {
     "data": {
      "text/plain": [
       "KNeighborsRegressor(n_neighbors=2)"
      ]
     },
     "execution_count": 28,
     "metadata": {},
     "output_type": "execute_result"
    }
   ],
   "source": [
    "X = np.array([[1, 2, 3], [1, 5, 7], [4, 6, 8], [10, 11, 12],[3, 7, 10]])\n",
    "\n",
    "y = X.dot(np.array([3, 7, 9])) + 4\n",
    "\n",
    "neigh = KNeighborsRegressor(n_neighbors=2, weights='uniform')\n",
    "\n",
    "print(X)\n",
    "print(y)\n",
    "\n",
    "neigh.fit(X, y)"
   ]
  },
  {
   "cell_type": "code",
   "execution_count": 29,
   "metadata": {},
   "outputs": [
    {
     "name": "stdout",
     "output_type": "stream",
     "text": [
      "[185.5]\n",
      "[[3 4]]\n"
     ]
    }
   ],
   "source": [
    "print(neigh.predict(np.array([[9, 10, 11]])))\n",
    "print(neigh.kneighbors([[9, 10, 11]], return_distance=False))"
   ]
  }
 ],
 "metadata": {
  "interpreter": {
   "hash": "916dbcbb3f70747c44a77c7bcd40155683ae19c65e1c03b4aa3499c5328201f1"
  },
  "kernelspec": {
   "display_name": "Python 3.8.10 64-bit",
   "language": "python",
   "name": "python3"
  },
  "language_info": {
   "codemirror_mode": {
    "name": "ipython",
    "version": 3
   },
   "file_extension": ".py",
   "mimetype": "text/x-python",
   "name": "python",
   "nbconvert_exporter": "python",
   "pygments_lexer": "ipython3",
   "version": "3.8.10"
  },
  "orig_nbformat": 4
 },
 "nbformat": 4,
 "nbformat_minor": 2
}
