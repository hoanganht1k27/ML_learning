{
 "cells": [
  {
   "cell_type": "code",
   "execution_count": 20,
   "metadata": {},
   "outputs": [
    {
     "name": "stdout",
     "output_type": "stream",
     "text": [
      "[[1 1 2 3]\n",
      " [1 1 2 4]\n",
      " [1 1 3 4]\n",
      " [1 5 6 7]\n",
      " [1 5 8 9]\n",
      " [1 1 1 1]]\n",
      "[21 25 28 57 71 10]\n",
      "[0. 2. 3. 4.]\n",
      "0.9999999999999787\n"
     ]
    }
   ],
   "source": [
    "import numpy as np\n",
    "from sklearn.linear_model import LinearRegression, Ridge\n",
    "\n",
    "# X thuoc N x D, N = 6, D = 3\n",
    "N = 6\n",
    "X = np.array([[1, 2, 3], [1, 2, 4], [1, 3, 4], [5, 6, 7], [5, 8, 9], [1, 1, 1]])\n",
    "t = np.array([[1] for _ in range(N)])\n",
    "X = np.concatenate((t, X), axis=1)\n",
    "y = np.dot(X, np.array([1, 2, 3, 4]))\n",
    "print(X)\n",
    "print(y)\n",
    "\n",
    "reg = LinearRegression().fit(X, y)\n",
    "print(reg.coef_)\n",
    "print(reg.intercept_)"
   ]
  },
  {
   "cell_type": "code",
   "execution_count": 32,
   "metadata": {},
   "outputs": [
    {
     "data": {
      "text/plain": [
       "91.00000000000006"
      ]
     },
     "execution_count": 32,
     "metadata": {},
     "output_type": "execute_result"
    }
   ],
   "source": [
    "reg.predict([[7, 8, 10, 11]])[0]"
   ]
  },
  {
   "cell_type": "code",
   "execution_count": 36,
   "metadata": {},
   "outputs": [
    {
     "name": "stdout",
     "output_type": "stream",
     "text": [
      "[90.53333333]\n",
      "[0.         2.02298851 3.15574713 3.75      ]\n",
      "1.541954022988513\n"
     ]
    }
   ],
   "source": [
    "# Linear Regression Ridge\n",
    "clf = Ridge(alpha=1.0)\n",
    "clf.fit(X, y)\n",
    "\n",
    "print(clf.predict([[7, 8, 10, 11]]))\n",
    "print(clf.coef_)\n",
    "print(clf.intercept_)"
   ]
  },
  {
   "cell_type": "code",
   "execution_count": null,
   "metadata": {},
   "outputs": [],
   "source": []
  }
 ],
 "metadata": {
  "interpreter": {
   "hash": "916dbcbb3f70747c44a77c7bcd40155683ae19c65e1c03b4aa3499c5328201f1"
  },
  "kernelspec": {
   "display_name": "Python 3.8.10 64-bit",
   "language": "python",
   "name": "python3"
  },
  "language_info": {
   "codemirror_mode": {
    "name": "ipython",
    "version": 3
   },
   "file_extension": ".py",
   "mimetype": "text/x-python",
   "name": "python",
   "nbconvert_exporter": "python",
   "pygments_lexer": "ipython3",
   "version": "3.8.10"
  },
  "orig_nbformat": 4
 },
 "nbformat": 4,
 "nbformat_minor": 2
}
