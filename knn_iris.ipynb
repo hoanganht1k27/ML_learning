{
 "cells": [
  {
   "cell_type": "code",
   "execution_count": 2,
   "metadata": {},
   "outputs": [
    {
     "name": "stdout",
     "output_type": "stream",
     "text": [
      "Labels:  [0 1 2]\n"
     ]
    }
   ],
   "source": [
    "from __future__ import print_function\n",
    "import numpy as np\n",
    "from sklearn import neighbors, datasets\n",
    "from sklearn.model_selection import train_test_split\n",
    "from sklearn.metrics import accuracy_score\n",
    "\n",
    "iris = datasets.load_iris()\n",
    "iris_X = iris.data\n",
    "iris_Y = iris.target\n",
    "\n",
    "print(\"Labels: \", np.unique(iris_Y))"
   ]
  },
  {
   "cell_type": "code",
   "execution_count": 36,
   "metadata": {},
   "outputs": [
    {
     "name": "stdout",
     "output_type": "stream",
     "text": [
      "Training size:  130\n",
      "Test size  20\n"
     ]
    }
   ],
   "source": [
    "np.random.seed(7) # Dong nay de dam bao ket qua chay o cac lan khac nhau la giong nhau, co the thay 7 bang 1 so nguyen 32 bit bat ky\n",
    "X_test, X_train, y_test, y_train = train_test_split(\n",
    "    iris_X, iris_Y, test_size=130\n",
    ")\n",
    "\n",
    "print(\"Training size: \", X_train.shape[0])\n",
    "print(\"Test size \", X_test.shape[0])"
   ]
  },
  {
   "cell_type": "code",
   "execution_count": 37,
   "metadata": {},
   "outputs": [
    {
     "name": "stdout",
     "output_type": "stream",
     "text": [
      "[2 0 2 0 0 2 2 1 1 2 2 1 2 2 1 1 2 2 2 1 0 2 1 1 0 2 2 0 1 0 0 2 1 0 2 0 0\n",
      " 1 0 0 1 0 0 0 0 0 1 0 2 1 0 2 2 0 0 2 1 1 0 1 2 0 0 0 2 0 1 1 2 2 0 2 1 1\n",
      " 2 2 1 2 2 1 0 1 0 0 1 0 0 1 1 1 0 1 0 1 2 2 1 1 1 1 0 1 2 0 0 0 1 2 0 2 2\n",
      " 1 0 2 2 0 0 1 1 1 2 2 2 2 1 1 1 0 1 1]\n"
     ]
    }
   ],
   "source": [
    "print(y_train)"
   ]
  },
  {
   "cell_type": "code",
   "execution_count": 38,
   "metadata": {},
   "outputs": [
    {
     "name": "stdout",
     "output_type": "stream",
     "text": [
      "Accuracy of 1NN is 100.00 %\n"
     ]
    }
   ],
   "source": [
    "model = neighbors.KNeighborsClassifier(n_neighbors = 1, p = 2) # K = n_neighbors, p = l2 norm\n",
    "model.fit(X_train, y_train)\n",
    "y_pred = model.predict(X_test)\n",
    "print(\"Accuracy of 1NN is %.2f %%\" % (100 * accuracy_score(y_test, y_pred)))"
   ]
  },
  {
   "cell_type": "code",
   "execution_count": 39,
   "metadata": {},
   "outputs": [
    {
     "name": "stdout",
     "output_type": "stream",
     "text": [
      "Accuracy of 7NN is 100.00 %\n"
     ]
    }
   ],
   "source": [
    "model = neighbors.KNeighborsClassifier(n_neighbors = 7, p = 2) # K = n_neighbors, p = l2 norm\n",
    "model.fit(X_train, y_train)\n",
    "y_pred = model.predict(X_test)\n",
    "print(\"Accuracy of 7NN is %.2f %%\" % (100 * accuracy_score(y_test, y_pred)))"
   ]
  },
  {
   "cell_type": "code",
   "execution_count": 40,
   "metadata": {},
   "outputs": [
    {
     "name": "stdout",
     "output_type": "stream",
     "text": [
      "Accuracy of 7NN is 100.00 %\n"
     ]
    }
   ],
   "source": [
    "# Danh trong so cac diem K lan can, trong so bang nghich dao cua khoang cach, chi can gan weights = 'distance', mac dinh cua weights la 'uniform'\n",
    "\n",
    "model = neighbors.KNeighborsClassifier(n_neighbors = 7, p = 2, weights='distance') # K = n_neighbors, p = l2 norm\n",
    "model.fit(X_train, y_train)\n",
    "y_pred = model.predict(X_test)\n",
    "print(\"Accuracy of 7NN is %.2f %%\" % (100 * accuracy_score(y_test, y_pred)))"
   ]
  },
  {
   "cell_type": "code",
   "execution_count": 41,
   "metadata": {},
   "outputs": [
    {
     "name": "stdout",
     "output_type": "stream",
     "text": [
      "Accuracy of 7NN is 100.00 %\n"
     ]
    }
   ],
   "source": [
    "# Tu dinh nghia trong so cho weights\n",
    "\n",
    "def myweight(distances):\n",
    "    sigma2 = .4\n",
    "    return np.exp(-distances ** 2 / sigma2)\n",
    "\n",
    "model = neighbors.KNeighborsClassifier(n_neighbors = 7, p = 2, weights=myweight) # K = n_neighbors, p = l2 norm\n",
    "model.fit(X_train, y_train)\n",
    "y_pred = model.predict(X_test)\n",
    "print(\"Accuracy of 7NN is %.2f %%\" % (100 * accuracy_score(y_test, y_pred)))"
   ]
  }
 ],
 "metadata": {
  "interpreter": {
   "hash": "916dbcbb3f70747c44a77c7bcd40155683ae19c65e1c03b4aa3499c5328201f1"
  },
  "kernelspec": {
   "display_name": "Python 3.8.10 64-bit",
   "language": "python",
   "name": "python3"
  },
  "language_info": {
   "codemirror_mode": {
    "name": "ipython",
    "version": 3
   },
   "file_extension": ".py",
   "mimetype": "text/x-python",
   "name": "python",
   "nbconvert_exporter": "python",
   "pygments_lexer": "ipython3",
   "version": "3.8.10"
  },
  "orig_nbformat": 4
 },
 "nbformat": 4,
 "nbformat_minor": 2
}
