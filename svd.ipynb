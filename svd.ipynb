{
 "cells": [
  {
   "cell_type": "code",
   "execution_count": 4,
   "metadata": {},
   "outputs": [
    {
     "name": "stdout",
     "output_type": "stream",
     "text": [
      "Frobenius norm of (UU^T - I) =  1.6468273425703317e-15\n",
      "S =  [3.35255041 2.21214132 0.66304079]\n",
      "Frobenius norm of (VV^T - I) =  6.287224812595087e-16\n",
      "[[ 0.81382072 -0.54185835  0.20996514]\n",
      " [-0.24885094  0.00154966  0.96854056]\n",
      " [ 0.52513716  0.8404684   0.13358081]]\n",
      "[[ 0.4439778  -0.39055841 -0.50003519 -0.63270265]\n",
      " [-0.30025973 -0.48493743  0.68523993 -0.4529084 ]\n",
      " [ 0.26643178 -0.73146016  0.01386057  0.62752532]\n",
      " [-0.80108795 -0.27796737 -0.52935709  0.02780832]]\n"
     ]
    }
   ],
   "source": [
    "# A_mxn = U_mxm * Z_mxn * (V_nxn).T\n",
    "# U va V la cac ma tran thuc giao\n",
    "# Z la 1 ma tran duong cheo\n",
    "\n",
    "from __future__ import print_function\n",
    "import numpy as np\n",
    "from numpy import linalg as LA\n",
    "\n",
    "m, n = 3, 4\n",
    "A = np.random.randn(m, n)\n",
    "\n",
    "U, S, V = LA.svd(A) # A = U * S * V (no V transpose here)\n",
    "\n",
    "# checking if U, V are orthogonal and S is a diagonal matrix with nonnegative decreasing elements\n",
    "print(\"Frobenius norm of (UU^T - I) = \", LA.norm(U.dot(U.T) - np.eye(m)))\n",
    "print(\"S = \", S)\n",
    "print(\"Frobenius norm of (VV^T - I) = \", LA.norm(V.dot(V.T) - np.eye(n)))\n",
    "\n",
    "print(U)\n",
    "print(V)"
   ]
  },
  {
   "cell_type": "code",
   "execution_count": 6,
   "metadata": {},
   "outputs": [
    {
     "name": "stdout",
     "output_type": "stream",
     "text": [
      "[[14 32]\n",
      " [32 77]]\n",
      "9.539392014169456\n"
     ]
    }
   ],
   "source": [
    "# print(np.eye(3))\n",
    "a = np.array([[1, 2, 3], [4, 5, 6]])\n",
    "print(a.dot(a.T))\n",
    "print(np.linalg.norm(a, ord='fro'))"
   ]
  }
 ],
 "metadata": {
  "interpreter": {
   "hash": "916dbcbb3f70747c44a77c7bcd40155683ae19c65e1c03b4aa3499c5328201f1"
  },
  "kernelspec": {
   "display_name": "Python 3.8.10 64-bit",
   "language": "python",
   "name": "python3"
  },
  "language_info": {
   "codemirror_mode": {
    "name": "ipython",
    "version": 3
   },
   "file_extension": ".py",
   "mimetype": "text/x-python",
   "name": "python",
   "nbconvert_exporter": "python",
   "pygments_lexer": "ipython3",
   "version": "3.8.10"
  },
  "orig_nbformat": 4
 },
 "nbformat": 4,
 "nbformat_minor": 2
}
