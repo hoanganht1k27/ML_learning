{
 "cells": [
  {
   "cell_type": "code",
   "execution_count": 12,
   "metadata": {},
   "outputs": [
    {
     "name": "stdout",
     "output_type": "stream",
     "text": [
      "Lan lap thu 1 a = 0.00000000, b = 1.00000000, c = 0.50000000, fa = -2.00000000, fb = 3.00000000, fc = -0.62500000\n",
      "Lan lap thu 2 a = 0.50000000, b = 1.00000000, c = 0.75000000, fa = -0.62500000, fb = 3.00000000, fc = 0.76562500\n",
      "Lan lap thu 3 a = 0.50000000, b = 0.75000000, c = 0.62500000, fa = -0.62500000, fb = 0.76562500, fc = -0.01757812\n",
      "Lan lap thu 4 a = 0.62500000, b = 0.75000000, c = 0.68750000, fa = -0.01757812, fb = 0.76562500, fc = 0.34985352\n",
      "Lan lap thu 5 a = 0.62500000, b = 0.68750000, c = 0.65625000, fa = -0.01757812, fb = 0.34985352, fc = 0.16036987\n",
      "Lan lap thu 6 a = 0.62500000, b = 0.65625000, c = 0.64062500, fa = -0.01757812, fb = 0.16036987, fc = 0.06998825\n",
      "Lan lap thu 7 a = 0.62500000, b = 0.64062500, c = 0.63281250, fa = -0.01757812, fb = 0.06998825, fc = 0.02585745\n",
      "Lan lap thu 8 a = 0.62500000, b = 0.63281250, c = 0.62890625, fa = -0.01757812, fb = 0.02585745, fc = 0.00405329\n",
      "Lan lap thu 9 a = 0.62500000, b = 0.62890625, c = 0.62695312, fa = -0.01757812, fb = 0.00405329, fc = -0.00678394\n",
      "Lan lap thu 10 a = 0.62695312, b = 0.62890625, c = 0.62792969, fa = -0.00678394, fb = 0.00405329, fc = -0.00137071\n",
      "Lan lap thu 11 a = 0.62792969, b = 0.62890625, c = 0.62841797, fa = -0.00137071, fb = 0.00405329, fc = 0.00133994\n",
      "Lan lap thu 12 a = 0.62792969, b = 0.62841797, c = 0.62817383, fa = -0.00137071, fb = 0.00133994, fc = -0.00001572\n",
      "Lan lap thu 13 a = 0.62817383, b = 0.62841797, c = 0.62829590, fa = -0.00001572, fb = 0.00133994, fc = 0.00066203\n",
      "Lan lap thu 14 a = 0.62817383, b = 0.62829590, c = 0.62823486, fa = -0.00001572, fb = 0.00066203, fc = 0.00032313\n",
      "Lan lap thu 15 a = 0.62817383, b = 0.62823486, c = 0.62820435, fa = -0.00001572, fb = 0.00032313, fc = 0.00015370\n",
      "Lan lap thu 16 a = 0.62817383, b = 0.62820435, c = 0.62818909, fa = -0.00001572, fb = 0.00015370, fc = 0.00006899\n",
      "Lan lap thu 17 a = 0.62817383, b = 0.62818909, c = 0.62818146, fa = -0.00001572, fb = 0.00006899, fc = 0.00002663\n",
      "Lan lap thu 18 a = 0.62817383, b = 0.62818146, c = 0.62817764, fa = -0.00001572, fb = 0.00002663, fc = 0.00000546\n",
      "0.6281776428222656\n"
     ]
    }
   ],
   "source": [
    "import numpy as np\n",
    "\n",
    "def cost(x):\n",
    "    return 3 * x ** 3 + 2 * x - 2\n",
    "\n",
    "a = 0\n",
    "b = 1\n",
    "e = 1e-5\n",
    "\n",
    "def pp_chia_doi(a, b, e):\n",
    "    it = 0\n",
    "    while True:\n",
    "        m = (a + b) / 2\n",
    "        it += 1\n",
    "        print(\"Lan lap thu %d a = %.8f, b = %.8f, c = %.8f, fa = %.8f, fb = %.8f, fc = %.8f\" % (it, a, b, m, cost(a), cost(b), cost(m)))\n",
    "        if np.abs(cost(m)) < e:\n",
    "            print(m)\n",
    "            break\n",
    "        if b - a < e:\n",
    "            print(m)\n",
    "            break\n",
    "        if cost(a) * cost(m) < 0:\n",
    "            b = m\n",
    "        else:\n",
    "            a = m\n",
    "\n",
    "pp_chia_doi(a, b, e)"
   ]
  },
  {
   "cell_type": "code",
   "execution_count": 16,
   "metadata": {},
   "outputs": [
    {
     "name": "stdout",
     "output_type": "stream",
     "text": [
      "Nghiem  0.6281934706300281\n",
      "Sai so  9.332432971831395e-05\n",
      "So buoc lap  4\n"
     ]
    }
   ],
   "source": [
    "def fx(x):\n",
    "    return 3 * x ** 3 + 2 * x - 2\n",
    "\n",
    "def dfx(x):\n",
    "    return 9 * x ** 2 + 2\n",
    "\n",
    "def pp_newton(fx, dfx, x0, e):\n",
    "    it = 0\n",
    "    x = 0\n",
    "    while True:\n",
    "        it += 1\n",
    "        fx0 = fx(x0)\n",
    "        dfx0 = dfx(x0)\n",
    "        x = x0 - fx0 / dfx0\n",
    "        print(it, x)\n",
    "        if np.abs(fx(x)) < e:\n",
    "            break\n",
    "        x0 = x\n",
    "\n",
    "# pp_newton(fx, dfx, 0, 1e-6)\n",
    "\n",
    "def pp_cat_tuyen(fx, x0, x1, e):\n",
    "    it = 0\n",
    "    x = x1\n",
    "    saisothucte = np.abs(x1)\n",
    "    while saisothucte > e:\n",
    "        it += 1\n",
    "        sk = (fx(x1) - fx(x0)) / (x1 - x0)\n",
    "        x2 = x1 - fx(x1) / sk\n",
    "        x = x2\n",
    "        saisothucte = np.abs(fx(x2))\n",
    "        x0 = x1\n",
    "        x1 = x2\n",
    "    print(\"Nghiem \", x)\n",
    "    print(\"Sai so \", saisothucte)\n",
    "    print(\"So buoc lap \", it)\n",
    "\n",
    "pp_cat_tuyen(fx, 0, 0.5, 0.001)\n"
   ]
  }
 ],
 "metadata": {
  "interpreter": {
   "hash": "916dbcbb3f70747c44a77c7bcd40155683ae19c65e1c03b4aa3499c5328201f1"
  },
  "kernelspec": {
   "display_name": "Python 3.8.10 64-bit",
   "language": "python",
   "name": "python3"
  },
  "language_info": {
   "codemirror_mode": {
    "name": "ipython",
    "version": 3
   },
   "file_extension": ".py",
   "mimetype": "text/x-python",
   "name": "python",
   "nbconvert_exporter": "python",
   "pygments_lexer": "ipython3",
   "version": "3.8.10"
  },
  "orig_nbformat": 4
 },
 "nbformat": 4,
 "nbformat_minor": 2
}
