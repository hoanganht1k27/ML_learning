{
 "cells": [
  {
   "cell_type": "code",
   "execution_count": 1,
   "metadata": {},
   "outputs": [],
   "source": [
    "from __future__ import division, print_function, unicode_literals\n",
    "import numpy as np\n",
    "\n",
    "import matplotlib as plt\n",
    "from matplotlib.backends.backend_pdf import PdfPages\n",
    "\n",
    "np.random.seed(22)"
   ]
  },
  {
   "cell_type": "code",
   "execution_count": 2,
   "metadata": {},
   "outputs": [],
   "source": [
    "means = [[0, 5], [5, 0]]\n",
    "cov0 = [[4, 3], [3, 4]]\n",
    "cov1 = [[3, 1], [1, 1]]\n",
    "N0, N1 = 50, 40\n",
    "N = N0 + N1\n",
    "X0 = np.random.multivariate_normal(means[0], cov0, N0) # each row is a data point\n",
    "X1 = np.random.multivariate_normal(means[0], cov1, N1)"
   ]
  },
  {
   "cell_type": "code",
   "execution_count": 5,
   "metadata": {},
   "outputs": [],
   "source": [
    "# Build S_B, phuong sai lien lop\n",
    "m0 = np.mean(X0.T, axis=1, keepdims=True)\n",
    "m1 = np.mean(X1.T, axis=1, keepdims=True)\n",
    "\n",
    "a = (m0 - m1)\n",
    "S_B = a.dot(a.T)\n",
    "\n",
    "# Build S_W, phuong sai noi lop\n",
    "A = X0.T - np.tile(m0, (1, N0))\n",
    "B = X1.T - np.tile(m1, (1, N1))\n",
    "\n",
    "S_W = A.dot(A.T) + B.dot(B.T)"
   ]
  },
  {
   "cell_type": "code",
   "execution_count": 6,
   "metadata": {},
   "outputs": [
    {
     "name": "stdout",
     "output_type": "stream",
     "text": [
      "w =  [ 0.83139193 -0.55568648]\n"
     ]
    }
   ],
   "source": [
    "# Nghiem cua bai toan la viector rieng tuong ung voi tri rieng lon nhat cua S_W ^ -1 * S_B\n",
    "_, W = np.linalg.eig(np.linalg.inv(S_W).dot(S_B))\n",
    "w = W[:, 0]\n",
    "print(\"w = \", w)"
   ]
  },
  {
   "cell_type": "code",
   "execution_count": 7,
   "metadata": {},
   "outputs": [
    {
     "name": "stdout",
     "output_type": "stream",
     "text": [
      "w_sklearn =  [-0.83139193  0.55568648]\n"
     ]
    }
   ],
   "source": [
    "# So sanh ket qua voi thu vien sklearn\n",
    "from sklearn.discriminant_analysis import LinearDiscriminantAnalysis\n",
    "X = np.concatenate((X0, X1))\n",
    "y = np.array([0] * N0 + [1] * N1)\n",
    "clf = LinearDiscriminantAnalysis()\n",
    "clf.fit(X, y)\n",
    "\n",
    "print(\"w_sklearn = \", clf.coef_[0] / np.linalg.norm(clf.coef_)) # normalize"
   ]
  }
 ],
 "metadata": {
  "interpreter": {
   "hash": "916dbcbb3f70747c44a77c7bcd40155683ae19c65e1c03b4aa3499c5328201f1"
  },
  "kernelspec": {
   "display_name": "Python 3.8.10 64-bit",
   "language": "python",
   "name": "python3"
  },
  "language_info": {
   "codemirror_mode": {
    "name": "ipython",
    "version": 3
   },
   "file_extension": ".py",
   "mimetype": "text/x-python",
   "name": "python",
   "nbconvert_exporter": "python",
   "pygments_lexer": "ipython3",
   "version": "3.8.10"
  },
  "orig_nbformat": 4
 },
 "nbformat": 4,
 "nbformat_minor": 2
}
