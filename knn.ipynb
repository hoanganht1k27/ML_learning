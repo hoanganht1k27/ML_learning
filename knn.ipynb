{
 "cells": [
  {
   "cell_type": "code",
   "execution_count": 3,
   "metadata": {},
   "outputs": [],
   "source": [
    "from __future__ import print_function\n",
    "import numpy as np\n",
    "from time import time\n",
    "\n",
    "d = 2000\n",
    "N = 1000\n",
    "\n",
    "X = np.random.randn(N, d)\n",
    "z = np.random.randn(d)"
   ]
  },
  {
   "cell_type": "code",
   "execution_count": 13,
   "metadata": {},
   "outputs": [
    {
     "name": "stdout",
     "output_type": "stream",
     "text": [
      "naive point2set, running time is:  0.01091909408569336  s\n",
      "fast point2set, running time is  0.004539012908935547  s\n",
      "(1, 1000)\n",
      "(1000,)\n",
      "1.7711810955143344e-11\n"
     ]
    }
   ],
   "source": [
    "\n",
    "def dist_pp(z, x):\n",
    "    d = z - x.reshape(z.shape)\n",
    "    return np.sum(d * d)\n",
    "\n",
    "def dist_ps_naive(z, X):\n",
    "    N = X.shape[0]\n",
    "    res = np.zeros((1, N))\n",
    "    for i in range(N):\n",
    "        res[0][i] = dist_pp(z, X[i])\n",
    "    return res\n",
    "\n",
    "def dist_ps_fast(z, X):\n",
    "    X2 = np.sum(X * X, 1)\n",
    "    z2 = np.sum(z * z)\n",
    "\n",
    "    return X2 + z2 - 2 * X.dot(z)\n",
    "\n",
    "t1 = time()\n",
    "D1 = dist_ps_naive(z, X)\n",
    "print(\"naive point2set, running time is: \", time() - t1, \" s\")\n",
    "\n",
    "t1 = time()\n",
    "D2 = dist_ps_fast(z, X)\n",
    "print(\"fast point2set, running time is \", time() - t1, \" s\")\n",
    "print(D1.shape)\n",
    "print(D2.shape)\n",
    "print(np.linalg.norm(D1 - D2))"
   ]
  },
  {
   "cell_type": "code",
   "execution_count": 26,
   "metadata": {},
   "outputs": [
    {
     "name": "stdout",
     "output_type": "stream",
     "text": [
      "half fast set2set, running time is:  0.01041102409362793  s\n",
      "fast set2set, running time is  0.0039882659912109375  s\n",
      "1.7711810955143344e-11\n"
     ]
    }
   ],
   "source": [
    "Z = np.random.randn(100, d)\n",
    "\n",
    "def dist_ss_0(Z, X):\n",
    "    M, N = Z.shape[0], X.shape[0]\n",
    "    res = np.zeros((M, N))\n",
    "    for i in range(M):\n",
    "        res[i] = dist_ps_fast(Z[i], X)\n",
    "    return res\n",
    "\n",
    "def dist_ss_1(Z, X):\n",
    "    X2 = np.sum(X * X, 1)\n",
    "    Z2 = np.sum(Z * Z, 1)\n",
    "    return Z2.reshape(-1, 1) + X2.reshape(1, -1) + 2 * Z.dot(X.T)\n",
    "\n",
    "t1 = time()\n",
    "D3 = dist_ps_naive(z, X)\n",
    "print(\"half fast set2set, running time is: \", time() - t1, \" s\")\n",
    "\n",
    "t1 = time()\n",
    "D4 = dist_ps_fast(z, X)\n",
    "print(\"fast set2set, running time is \", time() - t1, \" s\")\n",
    "print(np.linalg.norm(D3 - D4))"
   ]
  },
  {
   "cell_type": "code",
   "execution_count": 25,
   "metadata": {},
   "outputs": [
    {
     "name": "stdout",
     "output_type": "stream",
     "text": [
      "[[5 7 8]\n",
      " [6 8 9]]\n"
     ]
    }
   ],
   "source": [
    "t = np.array([1, 2])\n",
    "tt = np.array([[4, 6, 7]])\n",
    "\n",
    "t = t.reshape(-1, 1)\n",
    "tt = tt.reshape(1, -1)\n",
    "\n",
    "print(t + tt)"
   ]
  }
 ],
 "metadata": {
  "interpreter": {
   "hash": "916dbcbb3f70747c44a77c7bcd40155683ae19c65e1c03b4aa3499c5328201f1"
  },
  "kernelspec": {
   "display_name": "Python 3.8.10 64-bit",
   "language": "python",
   "name": "python3"
  },
  "language_info": {
   "codemirror_mode": {
    "name": "ipython",
    "version": 3
   },
   "file_extension": ".py",
   "mimetype": "text/x-python",
   "name": "python",
   "nbconvert_exporter": "python",
   "pygments_lexer": "ipython3",
   "version": "3.8.10"
  },
  "orig_nbformat": 4
 },
 "nbformat": 4,
 "nbformat_minor": 2
}
