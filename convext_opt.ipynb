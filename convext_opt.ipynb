{
 "cells": [
  {
   "cell_type": "code",
   "execution_count": 1,
   "metadata": {},
   "outputs": [
    {
     "name": "stdout",
     "output_type": "stream",
     "text": [
      "     pcost       dcost       gap    pres   dres   k/t\n",
      " 0: -3.9524e+01 -1.4862e+02  4e+01  9e-02  2e+00  1e+00\n",
      " 1: -3.9031e+01 -5.9874e+01  7e+00  2e-02  4e-01  5e-01\n",
      " 2: -4.2276e+01 -5.1758e+01  4e+00  9e-03  2e-01  4e-01\n",
      " 3: -4.1984e+01 -4.2263e+01  1e-01  2e-04  5e-03  1e-02\n",
      " 4: -4.2000e+01 -4.2003e+01  1e-03  3e-06  5e-05  1e-04\n",
      " 5: -4.2000e+01 -4.2000e+01  1e-05  3e-08  5e-07  1e-06\n",
      " 6: -4.2000e+01 -4.2000e+01  1e-07  3e-10  5e-09  1e-08\n",
      "Optimal solution found.\n",
      "Solution\n",
      "[ 6.00e+00]\n",
      "[ 4.00e+00]\n",
      "\n"
     ]
    }
   ],
   "source": [
    "# Dang tieu chuan cua quy hoach tuyen tinh\n",
    "# (x, y) = argmax(5x + 3y)\n",
    "\n",
    "# constraint\n",
    "# x + y <= 10, 2x + y <= 16, x + 4y <= 32, x, y >= 0\n",
    "\n",
    "# G = [[1, 1], [2, 1], [1, 4], [-1, 0], [0, -1]]\n",
    "# h = [10, 16, 32, 0, 0]\n",
    "\n",
    "from cvxopt import matrix, solvers\n",
    "\n",
    "c = matrix([-5., -3.]) ## since we need to maximize the objective funtion\n",
    "G = matrix([[1., 2., 1., -1., 0.], [1., 1., 4., 0., -1.]])\n",
    "h = matrix([10., 16., 32., 0., 0.])\n",
    "\n",
    "# solvers.options['show_progress'] = False\n",
    "sol = solvers.lp(c, G, h)\n",
    "\n",
    "print(\"Solution\")\n",
    "print(sol['x'])"
   ]
  },
  {
   "cell_type": "code",
   "execution_count": 3,
   "metadata": {},
   "outputs": [
    {
     "name": "stdout",
     "output_type": "stream",
     "text": [
      "Solution: \n",
      "[ 5.00e+00]\n",
      "[ 5.00e+00]\n",
      "\n"
     ]
    }
   ],
   "source": [
    "# Dang tieu chuan cua quy hoach toan phuong\n",
    "# (x, y) = argmin((x - 10) ^ 2 + (y - 10) ^ 2)\n",
    "\n",
    "from cvxopt import solvers, matrix\n",
    "\n",
    "P = matrix([[1., 0.], [0., 1.]])\n",
    "q = matrix([-10., -10.])\n",
    "\n",
    "G = matrix([[1., 2., 1., -1., 0.], [1., 1., 4., 0., -1.]])\n",
    "h = matrix([10., 16., 32., 0., 0])\n",
    "\n",
    "solvers.options['show_progress'] = False\n",
    "sol = solvers.qp(P, q, G, h)\n",
    "\n",
    "print(\"Solution: \")\n",
    "print(sol['x'])"
   ]
  }
 ],
 "metadata": {
  "interpreter": {
   "hash": "916dbcbb3f70747c44a77c7bcd40155683ae19c65e1c03b4aa3499c5328201f1"
  },
  "kernelspec": {
   "display_name": "Python 3.8.10 64-bit",
   "language": "python",
   "name": "python3"
  },
  "language_info": {
   "codemirror_mode": {
    "name": "ipython",
    "version": 3
   },
   "file_extension": ".py",
   "mimetype": "text/x-python",
   "name": "python",
   "nbconvert_exporter": "python",
   "pygments_lexer": "ipython3",
   "version": "3.8.10"
  },
  "orig_nbformat": 4
 },
 "nbformat": 4,
 "nbformat_minor": 2
}
