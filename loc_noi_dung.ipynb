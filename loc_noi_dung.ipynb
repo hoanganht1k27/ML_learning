{
 "cells": [
  {
   "cell_type": "code",
   "execution_count": 1,
   "metadata": {},
   "outputs": [
    {
     "name": "stdout",
     "output_type": "stream",
     "text": [
      "Number of users:  943\n",
      "(90570, 4)\n",
      "(9430, 4)\n"
     ]
    }
   ],
   "source": [
    "from __future__ import print_function\n",
    "\n",
    "import numpy as np\n",
    "import pandas as pd\n",
    "\n",
    "# Reading user file\n",
    "u_cols = ['user_id', 'age', 'sex', 'occupation', 'zip_code']\n",
    "users = pd.read_csv('ml-100k/u.user', sep='|', names=u_cols)\n",
    "n_users = users.shape[0]\n",
    "print(\"Number of users: \", n_users)\n",
    "\n",
    "# Reading rate file\n",
    "r_cols = ['user_id', 'movie_id', 'rating', 'unix_timestamp']\n",
    "ratings_base = pd.read_csv('ml-100k/ua.base', sep='\\t', names=r_cols)\n",
    "ratings_test = pd.read_csv('ml-100k/ua.test', sep='\\t', names=r_cols)\n",
    "\n",
    "rate_train = np.array(ratings_base)\n",
    "rate_test = np.array(ratings_test)\n",
    "\n",
    "# rate_train = ratings_base.as_matrix()\n",
    "# rate_test = ratings_test.as_matrix()\n",
    "\n",
    "# print(\"Number of traing rates: \", rate_train.shape[0])\n",
    "# print(\"Number of test rates: \", rate_test.shape[0])\n",
    "\n",
    "print(ratings_base.shape)\n",
    "print(ratings_test.shape)"
   ]
  },
  {
   "cell_type": "code",
   "execution_count": 33,
   "metadata": {},
   "outputs": [
    {
     "name": "stdout",
     "output_type": "stream",
     "text": [
      "[        1         1         5 874965758]\n"
     ]
    }
   ],
   "source": [
    "print(rate_train[0, :])"
   ]
  },
  {
   "cell_type": "code",
   "execution_count": 2,
   "metadata": {},
   "outputs": [
    {
     "name": "stdout",
     "output_type": "stream",
     "text": [
      "Number of items:  1682\n",
      "[[0 0 0 ... 0 0 0]\n",
      " [0 1 1 ... 1 0 0]\n",
      " [0 0 0 ... 1 0 0]\n",
      " ...\n",
      " [0 0 0 ... 0 0 0]\n",
      " [0 0 0 ... 0 0 0]\n",
      " [0 0 0 ... 0 0 0]]\n"
     ]
    }
   ],
   "source": [
    "# Reading items file \n",
    "i_cols = ['movie_id', 'movie_title', 'realease_date', 'video_release_date', 'IMDb_URL', 'unknown', 'Action', 'Adventure', 'Animation', 'Children', 'Comedy', 'Crime', 'Documentary', 'Drama', 'Fantasy', 'Film-Noir', 'Horror', 'Musical', 'Mystery', 'Romance', 'Sci-Fi', 'Thriller', 'War', 'Western']\n",
    "# print(len(i_cols))\n",
    "\n",
    "items = pd.read_csv('ml-100k/u.item', sep='|', names=i_cols)\n",
    "\n",
    "n_items = items.shape[0]\n",
    "\n",
    "print(\"Number of items: \", n_items)\n",
    "\n",
    "X0 = np.array(items)\n",
    "X_train_counts = X0[:, -19:]\n",
    "\n",
    "print(X_train_counts)\n",
    "\n"
   ]
  },
  {
   "cell_type": "code",
   "execution_count": 20,
   "metadata": {},
   "outputs": [
    {
     "data": {
      "text/plain": [
       "array([[5, 6],\n",
       "       [6, 7]])"
      ]
     },
     "execution_count": 20,
     "metadata": {},
     "output_type": "execute_result"
    }
   ],
   "source": [
    "a = np.array([[1, 2, 3, 4, 5, 6], [2, 3, 4, 5, 6, 7]])\n",
    "a[:, -2:]"
   ]
  },
  {
   "cell_type": "code",
   "execution_count": 3,
   "metadata": {},
   "outputs": [
    {
     "name": "stdout",
     "output_type": "stream",
     "text": [
      "[0.         0.         0.         0.74066017 0.57387209 0.34941857\n",
      " 0.         0.         0.         0.         0.         0.\n",
      " 0.         0.         0.         0.         0.         0.\n",
      " 0.        ]\n"
     ]
    }
   ],
   "source": [
    "# Xay dung ma tran dac trung cho moi phim\n",
    "# Su dung TfidfTransformer trong thu vien sklearn\n",
    "\n",
    "from sklearn.feature_extraction.text import TfidfTransformer\n",
    "transformer = TfidfTransformer(smooth_idf=True, norm ='l2')\n",
    "X = transformer.fit_transform(X_train_counts.tolist()).toarray()\n",
    "\n",
    "print(X[0, :])"
   ]
  },
  {
   "cell_type": "code",
   "execution_count": 4,
   "metadata": {},
   "outputs": [],
   "source": [
    "def get_items_rated_by_user(rate_matrix, user_id):\n",
    "    y = rate_matrix[:, 0] # all user\n",
    "    # item indexes rated by user_id, we need to +1 to user_id since in the rate_matrix, id starts from 1 but id in python start from 0\n",
    "    ids = np.where(y == user_id + 1)[0] # indexes of row in rate_matrix that has rated by user_id\n",
    "    items_ids = rate_matrix[ids, 1] - 1 # index starts from 0\n",
    "    scores = rate_matrix[ids, 2]\n",
    "\n",
    "    return (items_ids, scores)"
   ]
  },
  {
   "cell_type": "code",
   "execution_count": 5,
   "metadata": {},
   "outputs": [],
   "source": [
    "# Bay gio di tim vector trong so cho moi nguoi dung, su dung Ridge Regression\n",
    "from sklearn.linear_model import Ridge\n",
    "from sklearn import linear_model\n",
    "\n",
    "d = X.shape[1] # data dimension\n",
    "W = np.zeros((d, n_users))\n",
    "b = np.zeros(n_users)\n",
    "\n",
    "for n in range(n_users):\n",
    "    ids, scores = get_items_rated_by_user(rate_train, n)\n",
    "    model = Ridge(alpha=0.1, fit_intercept=True)\n",
    "    Xhat = X[ids, :]\n",
    "    model.fit(Xhat, scores)\n",
    "    W[:, n] = model.coef_\n",
    "    b[n] = model.intercept_\n",
    "\n",
    "Yhat = X.dot(W) + b\n"
   ]
  },
  {
   "cell_type": "code",
   "execution_count": 6,
   "metadata": {},
   "outputs": [
    {
     "name": "stdout",
     "output_type": "stream",
     "text": [
      "Rated movie ids:  [  10   27   45   56   68   69   82   85  126  134  174  179  186  189\n",
      "  190  192  196  213  238  268  356  381  402  422  428  463  468  469\n",
      "  510  512  518  552  569  581  659  660  672  698  723  726  735  736\n",
      "  791  955 1043 1044 1073 1112 1118 1167 1266]\n",
      "True ratings:  [1 4 5 2 2 5 5 5 5 4 5 5 4 4 5 4 5 2 4 5 3 3 4 4 3 5 5 3 5 4 4 3 3 5 3 4 3\n",
      " 5 4 4 4 4 3 4 5 4 4 5 3 4 4]\n",
      "Predicted ratings:  [1.8  3.84 4.12 4.12 3.93 4.07 4.07 4.12 4.29 3.88 4.33 3.96 4.29 3.96\n",
      " 5.15 4.12 4.08 2.35 3.4  4.11 4.12 4.04 4.34 4.03 4.25 4.12 4.12 3.36\n",
      " 4.12 3.8  4.37 4.08 3.36 4.08 4.12 3.36 3.02 4.12 4.08 4.08 4.08 4.04\n",
      " 4.11 4.12 4.04 4.12 4.04 4.12 4.08 4.12 4.12]\n"
     ]
    }
   ],
   "source": [
    "n = 121\n",
    "np.set_printoptions(precision=2)\n",
    "ids, scores = get_items_rated_by_user(rate_train, n)\n",
    "print('Rated movie ids: ', ids)\n",
    "print('True ratings: ', scores)\n",
    "print('Predicted ratings: ', Yhat[ids, n])"
   ]
  },
  {
   "cell_type": "code",
   "execution_count": 7,
   "metadata": {},
   "outputs": [
    {
     "name": "stdout",
     "output_type": "stream",
     "text": [
      "RMSE for training: 0.91\n",
      "RMSE for test: 1.14\n"
     ]
    }
   ],
   "source": [
    "# Danh gia mo hinh\n",
    "def evaluate(Yhat, rates, W, b):\n",
    "    se = cnt = 0\n",
    "    for n in range(n_users):\n",
    "        ids, scores_truth = get_items_rated_by_user(rates, n)\n",
    "        scores_pred = Yhat[ids, n]\n",
    "        e = scores_truth - scores_pred\n",
    "        se += (e * e).sum(axis = 0)\n",
    "        cnt += e.size\n",
    "    return np.sqrt(se / cnt)\n",
    "\n",
    "print(\"RMSE for training: %.2f\" % evaluate(Yhat, rate_train, W, b))\n",
    "print(\"RMSE for test: %.2f\" % evaluate(Yhat, rate_test, W, b))"
   ]
  },
  {
   "cell_type": "code",
   "execution_count": 34,
   "metadata": {},
   "outputs": [
    {
     "name": "stdout",
     "output_type": "stream",
     "text": [
      "(array([1, 3]),)\n"
     ]
    }
   ],
   "source": [
    "a = np.array([1, 2, 3, 4, 5])\n",
    "print(np.where(a % 2 == 0))"
   ]
  }
 ],
 "metadata": {
  "interpreter": {
   "hash": "916dbcbb3f70747c44a77c7bcd40155683ae19c65e1c03b4aa3499c5328201f1"
  },
  "kernelspec": {
   "display_name": "Python 3.8.10 64-bit",
   "language": "python",
   "name": "python3"
  },
  "language_info": {
   "codemirror_mode": {
    "name": "ipython",
    "version": 3
   },
   "file_extension": ".py",
   "mimetype": "text/x-python",
   "name": "python",
   "nbconvert_exporter": "python",
   "pygments_lexer": "ipython3",
   "version": "3.8.10"
  },
  "orig_nbformat": 4
 },
 "nbformat": 4,
 "nbformat_minor": 2
}
