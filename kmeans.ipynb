{
 "cells": [
  {
   "cell_type": "code",
   "execution_count": 1,
   "metadata": {},
   "outputs": [],
   "source": [
    "from __future__ import print_function\n",
    "import numpy as np\n",
    "import matplotlib.pyplot as plt\n",
    "from scipy.spatial.distance import cdist\n",
    "import random"
   ]
  },
  {
   "cell_type": "code",
   "execution_count": 18,
   "metadata": {},
   "outputs": [
    {
     "name": "stdout",
     "output_type": "stream",
     "text": [
      "(12, 2)\n",
      "(12,)\n"
     ]
    }
   ],
   "source": [
    "np.random.seed(8)\n",
    "means = [[2, 2], [8, 3], [3, 6]]\n",
    "cov = [[1, 0], [0, 1]]\n",
    "\n",
    "N = 4\n",
    "# X0 = np.random.multivariate_normal(means[0], cov, N)\n",
    "# X1 = np.random.multivariate_normal(means[1], cov, N)\n",
    "# X2 = np.random.multivariate_normal(means[2], cov, N)\n",
    "X0 = [[1, 1], [2, 2], [3, 3], [4, 4]]\n",
    "X1 = [[100, 100], [101, 101], [102, 102], [103, 103]]\n",
    "X2 = [[1000, 1000], [1001, 1001], [1002, 1002], [1003, 1003]]\n",
    "X = np.concatenate((X0, X1, X2), axis = 0)\n",
    "\n",
    "K = 3 # 3 clusters\n",
    "\n",
    "original_label = np.asarray([0]*N + [1]*N + [2]*N).T\n",
    "\n",
    "print(X.shape)\n",
    "print(original_label.shape)"
   ]
  },
  {
   "cell_type": "code",
   "execution_count": 24,
   "metadata": {},
   "outputs": [
    {
     "name": "stdout",
     "output_type": "stream",
     "text": [
      "Centers found by our algorithms: \n",
      " [[1001.5 1001.5]\n",
      " [   2.5    2.5]\n",
      " [ 101.5  101.5]]\n"
     ]
    }
   ],
   "source": [
    "# khoi tao cac tam cum\n",
    "def kmeans_init_centroids(X, k):\n",
    "    # randomly pick k rows of X as initial centroids\n",
    "    return X[np.random.choice(X.shape[0], k, replace=False)] # replace = False means value can be choose only once\n",
    "\n",
    "def kmeans_assign_labels(X, centroids):\n",
    "    # calculate pairwise distances btw data and centroids\n",
    "    D = cdist(X, centroids) # shape N * k\n",
    "    # return index of the closest centroid\n",
    "    return np.argmin(D, axis = 1) # shape N * 1\n",
    "\n",
    "# t = kmeans_init_centroids(X, K)\n",
    "# print(t.shape)\n",
    "\n",
    "# l = kmeans_assign_labels(X, t)\n",
    "# print(l.shape)\n",
    "\n",
    "def has_converged(centroids, new_centroids):\n",
    "    # return True if two sets of centroids are the same\n",
    "    return (set([tuple(a) for a in centroids]) == set([tuple(a) for a in new_centroids]))\n",
    "\n",
    "def kmeans_update_centroids(X, labels, K):\n",
    "    centroids = np.zeros((K, X.shape[1]))\n",
    "    for k in range(K):\n",
    "        # collect all points that are assigned to the k-th cluster\n",
    "        Xk = X[labels == k, :]\n",
    "        centroids[k, :] = np.mean(Xk, axis=0) # take average\n",
    "    return centroids\n",
    "\n",
    "def kmeans(X, K):\n",
    "    centroids = [kmeans_init_centroids(X, K)]\n",
    "    labels = []\n",
    "    it = 0\n",
    "    while True:\n",
    "        labels.append(kmeans_assign_labels(X, centroids[-1]))\n",
    "        new_centroids = kmeans_update_centroids(X, labels[-1], K)\n",
    "        if has_converged(centroids[-1], new_centroids):\n",
    "            break\n",
    "        centroids.append(new_centroids)\n",
    "        it += 1\n",
    "    return (centroids, labels, it)\n",
    "\n",
    "(centroids, labels, it) = kmeans(X, K)\n",
    "print(\"Centers found by our algorithms: \\n\", centroids[-1])\n"
   ]
  },
  {
   "cell_type": "code",
   "execution_count": 26,
   "metadata": {},
   "outputs": [
    {
     "name": "stdout",
     "output_type": "stream",
     "text": [
      "Centers found by scikit-learn: \n",
      "[[ 101.5  101.5]\n",
      " [1001.5 1001.5]\n",
      " [   2.5    2.5]]\n",
      "[2 2 2 2 0 0 0 0 1 1 1 1]\n"
     ]
    }
   ],
   "source": [
    "from sklearn.cluster import KMeans\n",
    "model = KMeans(n_clusters=3, random_state=0).fit(X)\n",
    "\n",
    "print(\"Centers found by scikit-learn: \")\n",
    "print(model.cluster_centers_)\n",
    "pred_label = model.predict(X)\n",
    "print(pred_label)\n",
    "# kmeans_display()"
   ]
  }
 ],
 "metadata": {
  "interpreter": {
   "hash": "916dbcbb3f70747c44a77c7bcd40155683ae19c65e1c03b4aa3499c5328201f1"
  },
  "kernelspec": {
   "display_name": "Python 3.8.10 64-bit",
   "language": "python",
   "name": "python3"
  },
  "language_info": {
   "codemirror_mode": {
    "name": "ipython",
    "version": 3
   },
   "file_extension": ".py",
   "mimetype": "text/x-python",
   "name": "python",
   "nbconvert_exporter": "python",
   "pygments_lexer": "ipython3",
   "version": "3.8.10"
  },
  "orig_nbformat": 4
 },
 "nbformat": 4,
 "nbformat_minor": 2
}
